{
 "cells": [
  {
   "cell_type": "code",
   "execution_count": 9,
   "metadata": {},
   "outputs": [
    {
     "name": "stdout",
     "output_type": "stream",
     "text": [
      "Soy menor que diez y como estoy primero me voy a ejecutar\n",
      "Soy también menor que 7\n"
     ]
    }
   ],
   "source": [
    "num = 6\n",
    "if num>10:\n",
    "    print(\"Soy mayor\")\n",
    "elif num<10:\n",
    "    print(\"Soy menor que diez y como estoy primero me voy a ejecutar\")\n",
    "    if num<7:\n",
    "        print(\"Soy también menor que 7\")\n",
    "    #else:\n",
    "        #pass # salta al siguiente ciclo\n",
    "else:\n",
    "    print(\"Soy igual\")"
   ]
  }
 ],
 "metadata": {
  "kernelspec": {
   "display_name": "venv",
   "language": "python",
   "name": "python3"
  },
  "language_info": {
   "codemirror_mode": {
    "name": "ipython",
    "version": 3
   },
   "file_extension": ".py",
   "mimetype": "text/x-python",
   "name": "python",
   "nbconvert_exporter": "python",
   "pygments_lexer": "ipython3",
   "version": "3.12.5"
  }
 },
 "nbformat": 4,
 "nbformat_minor": 2
}
