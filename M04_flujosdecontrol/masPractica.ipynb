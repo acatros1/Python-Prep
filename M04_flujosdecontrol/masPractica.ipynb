{
 "cells": [
  {
   "cell_type": "markdown",
   "metadata": {},
   "source": [
    "1. Ejercicio básico - If/Else:\n",
    "Escribe un programa que pida al usuario su edad y determine si es mayor de edad (18 años o más) o menor de edad."
   ]
  },
  {
   "cell_type": "code",
   "execution_count": 7,
   "metadata": {},
   "outputs": [
    {
     "name": "stdout",
     "output_type": "stream",
     "text": [
      "cual es tu edad?\n",
      "Usted es mayor de edad\n"
     ]
    }
   ],
   "source": [
    "\n",
    "edad = int(input('por favor ingrese su edad'))\n",
    "if edad >= 18:\n",
    "    print(\"Usted es mayor de edad\")\n",
    "else:\n",
    "    print(\"Usted es menor de edad\")"
   ]
  },
  {
   "cell_type": "markdown",
   "metadata": {},
   "source": [
    "2. Ejercicio - If/Elif/Else:\n",
    "Crea un programa que pida al usuario un número del 1 al 7 y muestre el día de la semana correspondiente (1 es lunes, 2 es martes, etc.). Si el número está fuera de ese rango, muestra un mensaje de error."
   ]
  },
  {
   "cell_type": "code",
   "execution_count": 11,
   "metadata": {},
   "outputs": [
    {
     "name": "stdout",
     "output_type": "stream",
     "text": [
      "el numero nopertenese a ningun dia de la semana\n"
     ]
    }
   ],
   "source": [
    "dia_semana = int(input('escriba un numero del 1 al 7'))\n",
    "if dia_semana == 1:\n",
    "    print('es lunes')\n",
    "elif dia_semana == 2:\n",
    "    print('es martes')\n",
    "elif dia_semana == 3:\n",
    "    print('es miercoles')\n",
    "elif dia_semana == 4:\n",
    "    print('es jueves')\n",
    "elif dia_semana == 5:\n",
    "    print('es viernes')\n",
    "elif dia_semana == 6:\n",
    "    print('es sabado')\n",
    "elif dia_semana == 7:\n",
    "    print('es domingo')\n",
    "else:\n",
    "    print('el numero nopertenese a ningun dia de la semana')"
   ]
  },
  {
   "cell_type": "markdown",
   "metadata": {},
   "source": [
    "3. Ejercicio - While:\n",
    "Escribe un programa que pida al usuario que adivine un número secreto entre 1 y 10. El programa debe continuar pidiendo al usuario que adivine hasta que acierte."
   ]
  },
  {
   "cell_type": "code",
   "execution_count": 13,
   "metadata": {},
   "outputs": [
    {
     "name": "stdout",
     "output_type": "stream",
     "text": [
      "ha adivinado que es el numero 5\n"
     ]
    }
   ],
   "source": [
    "nSecreto = 5\n",
    "numero = int(input('adivine el numero secreto'))\n",
    "while nSecreto != numero:\n",
    "    numero = int(input('siga intentando: '))\n",
    "print('ha adivinado que es el numero', numero)"
   ]
  },
  {
   "cell_type": "markdown",
   "metadata": {},
   "source": [
    "4. Ejercicio - For:\n",
    "Crea un programa que imprima la tabla de multiplicar del 1 al 10 para un número ingresado por el usuario."
   ]
  },
  {
   "cell_type": "code",
   "execution_count": 17,
   "metadata": {},
   "outputs": [
    {
     "name": "stdout",
     "output_type": "stream",
     "text": [
      "1  X  2  =  2\n",
      "2  X  2  =  4\n",
      "3  X  2  =  6\n",
      "4  X  2  =  8\n",
      "5  X  2  =  10\n",
      "6  X  2  =  12\n",
      "7  X  2  =  14\n",
      "8  X  2  =  16\n",
      "9  X  2  =  18\n",
      "10  X  2  =  20\n"
     ]
    }
   ],
   "source": [
    "numero = int(input('escriba el numero del la tabla de muliplicar que quiere imprimir'))\n",
    "for i in range(1, 11):\n",
    "    resultado = i * numero\n",
    "    print(i,' X ', numero, ' = ', resultado)"
   ]
  },
  {
   "cell_type": "markdown",
   "metadata": {},
   "source": [
    "5. Ejercicio - Combinación de estructuras:\n",
    "Escribe un programa que pida al usuario un número y determine si es primo o no. (Un número primo es aquel que solo es divisible por 1 y por sí mismo)."
   ]
  },
  {
   "cell_type": "code",
   "execution_count": 34,
   "metadata": {},
   "outputs": [
    {
     "name": "stdout",
     "output_type": "stream",
     "text": [
      "el numero 8 no es primo\n"
     ]
    }
   ],
   "source": [
    "numero = int(input('ingrese un numero para verificar si es primo'))\n",
    "es_primo = True\n",
    "for i in range(2, numero):\n",
    "    if numero % i == 0:\n",
    "        es_primo = False\n",
    "        break\n",
    "\n",
    "if es_primo:\n",
    "    print(\"el numero\", numero, \"es primo\")\n",
    "else:\n",
    "    print(\"el numero\", numero, \"no es primo\")"
   ]
  },
  {
   "cell_type": "markdown",
   "metadata": {},
   "source": [
    "6. Ejercicio avanzado - Anidación de estructuras:\n",
    "Crea un programa que genere un patrón de asteriscos en forma de triángulo. El usuario debe ingresar el número de filas. Por ejemplo, si el usuario ingresa 4, el resultado debería ser:\n"
   ]
  },
  {
   "cell_type": "code",
   "execution_count": 9,
   "metadata": {},
   "outputs": [
    {
     "name": "stdout",
     "output_type": "stream",
     "text": [
      "    *\n",
      "   ***\n",
      "  *****\n",
      " *******\n",
      "*********\n"
     ]
    }
   ],
   "source": [
    "filas = int(input('ingrese un numero de filas'))\n",
    "estrella = \"*\"\n",
    "for i in range(0, filas):\n",
    "    if i == 0:\n",
    "        n_espacio = filas - 1\n",
    "        espacio = \" \" * n_espacio\n",
    "        print(espacio + estrella)\n",
    "    else:\n",
    "        n_espacio -= 1\n",
    "        espacio = \" \" * n_espacio\n",
    "        estrella += \"**\"\n",
    "        print(espacio + estrella)\n",
    "        \n"
   ]
  }
 ],
 "metadata": {
  "kernelspec": {
   "display_name": "venv",
   "language": "python",
   "name": "python3"
  },
  "language_info": {
   "codemirror_mode": {
    "name": "ipython",
    "version": 3
   },
   "file_extension": ".py",
   "mimetype": "text/x-python",
   "name": "python",
   "nbconvert_exporter": "python",
   "pygments_lexer": "ipython3",
   "version": "3.12.5"
  }
 },
 "nbformat": 4,
 "nbformat_minor": 2
}
