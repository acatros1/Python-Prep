{
 "cells": [
  {
   "attachments": {},
   "cell_type": "markdown",
   "metadata": {},
   "source": [
    "## Funciones"
   ]
  },
  {
   "attachments": {},
   "cell_type": "markdown",
   "metadata": {},
   "source": [
    "1) Crear una función que reciba un número como parámetro y devuelva True si es primo y False si no lo es"
   ]
  },
  {
   "cell_type": "code",
   "execution_count": 12,
   "metadata": {},
   "outputs": [
    {
     "data": {
      "text/plain": [
       "False"
      ]
     },
     "execution_count": 12,
     "metadata": {},
     "output_type": "execute_result"
    }
   ],
   "source": [
    "def primo(numero):\n",
    "    if numero < 2:\n",
    "        return False\n",
    "    for i in range(2, numero):\n",
    "        if numero % i == 0:\n",
    "            return False\n",
    "    return True\n",
    "\n",
    "primo(1)"
   ]
  },
  {
   "attachments": {},
   "cell_type": "markdown",
   "metadata": {},
   "source": [
    "2) Utilizando la función del punto 1, realizar otra función que reciba de parámetro una lista de números y devuelva sólo aquellos que son primos en otra lista"
   ]
  },
  {
   "cell_type": "code",
   "execution_count": 13,
   "metadata": {},
   "outputs": [
    {
     "data": {
      "text/plain": [
       "[2, 3, 5, 7, 11, 13, 17, 19]"
      ]
     },
     "execution_count": 13,
     "metadata": {},
     "output_type": "execute_result"
    }
   ],
   "source": [
    "def numeros_primos(numerosL):\n",
    "    Lprimos = []\n",
    "    for i in numerosL:\n",
    "        if primo(i) == True:\n",
    "            Lprimos.append(i)\n",
    "    return Lprimos\n",
    "\n",
    "numeros = [1,2,3,4,5,6,7,8,9,10,11,12,13,14,15,16,17,18,19,20]\n",
    "numeros_primos(numeros)"
   ]
  },
  {
   "attachments": {},
   "cell_type": "markdown",
   "metadata": {},
   "source": [
    "3) Crear una función que al recibir una lista de números, devuelva el que más se repite y cuántas veces lo hace. Si hay más de un \"más repetido\", que devuelva cualquiera"
   ]
  },
  {
   "cell_type": "code",
   "execution_count": 14,
   "metadata": {},
   "outputs": [
    {
     "name": "stdout",
     "output_type": "stream",
     "text": [
      "[5, 3]\n"
     ]
    }
   ],
   "source": [
    "def numero_repetido(numerosR):\n",
    "    max_repetidos = 0\n",
    "    repite = 0\n",
    "    for i in numerosR:\n",
    "        contador = numerosR.count(i)\n",
    "        if contador > max_repetidos:\n",
    "            max_repetidos = contador\n",
    "            repite = i\n",
    "    return  [repite, max_repetidos]\n",
    "\n",
    "\n",
    "lis = [1,1,5,6,8,10,22,5,6,4,11,9,5]\n",
    "print(numero_repetido(lis))\n",
    "\n"
   ]
  },
  {
   "cell_type": "code",
   "execution_count": 15,
   "metadata": {},
   "outputs": [
    {
     "data": {
      "text/plain": [
       "[5, 3]"
      ]
     },
     "execution_count": 15,
     "metadata": {},
     "output_type": "execute_result"
    }
   ],
   "source": [
    "def mas_repetido(lista):\n",
    "    # Crea un diccionario para contar la frecuencia de cada número\n",
    "    frecuencias = {}\n",
    "    for num in lista:\n",
    "        if num in frecuencias:\n",
    "            frecuencias[num] += 1\n",
    "        else:\n",
    "            frecuencias[num] = 1\n",
    "\n",
    "    # Busca el número con la frecuencia más alta\n",
    "    max_frecuencia = max(frecuencias.values())\n",
    "    mas_repetido = [num for num, freq in frecuencias.items() if freq == max_frecuencia][0]\n",
    "\n",
    "    return mas_repetido, max_frecuencia\n",
    "\n",
    "\n",
    "lis = [1,1,5,6,8,10,22,5,6,4,11,9,5]\n",
    "numero_repetido(lis)"
   ]
  },
  {
   "attachments": {},
   "cell_type": "markdown",
   "metadata": {},
   "source": [
    "4) Crear una función que convierta entre grados Celsius, Farenheit y Kelvin<br>\n",
    "Fórmula 1\t: (°C × 9/5) + 32 = °F<br>\n",
    "Fórmula 2\t: °C + 273.15 = °K<br>\n",
    "Debe recibir 3 parámetros: el valor, la medida de orígen y la medida de destino\n"
   ]
  },
  {
   "cell_type": "code",
   "execution_count": 17,
   "metadata": {},
   "outputs": [],
   "source": [
    "def convertir_temperatura(valor, origen, destino):\n",
    "    if origen == \"C\" and destino == \"F\":\n",
    "        return (valor * 9/5) + 32\n",
    "    elif origen == \"C\" and destino == \"K\":\n",
    "        return valor + 273.15\n",
    "    elif origen == \"F\" and destino == \"C\":\n",
    "        return (valor - 32) * 5/9\n",
    "    elif origen == \"F\" and destino == \"K\":\n",
    "        return (valor - 32) * 5/9 + 273.15\n",
    "    elif origen == \"K\" and destino == \"C\":\n",
    "        return valor - 273.15\n",
    "    elif origen == \"K\" and destino == \"F\":\n",
    "        return (valor - 273.15) * 9/5 + 32\n",
    "    else:\n",
    "        raise ValueError(\"Origen o destino no válido\")"
   ]
  },
  {
   "cell_type": "code",
   "execution_count": 18,
   "metadata": {},
   "outputs": [
    {
     "name": "stdout",
     "output_type": "stream",
     "text": [
      "86.0\n",
      "30.0\n",
      "303.15\n",
      "30.0\n",
      "303.15\n"
     ]
    }
   ],
   "source": [
    "print(convertir_temperatura(30, \"C\", \"F\"))  # 86.0\n",
    "print(convertir_temperatura(86, \"F\", \"C\"))  # 30.0\n",
    "print(convertir_temperatura(30, \"C\", \"K\"))  # 303.15\n",
    "print(convertir_temperatura(303.15, \"K\", \"C\"))  # 30.0\n",
    "print(convertir_temperatura(86, \"F\", \"K\"))  # 303.15"
   ]
  },
  {
   "attachments": {},
   "cell_type": "markdown",
   "metadata": {},
   "source": [
    "5) Iterando una lista con los tres valores posibles de temperatura que recibe la función del punto 5, hacer un print para cada combinación de los mismos:"
   ]
  },
  {
   "cell_type": "code",
   "execution_count": 19,
   "metadata": {},
   "outputs": [
    {
     "name": "stdout",
     "output_type": "stream",
     "text": [
      "Conversión de C a F:\n",
      "30 C es igual a 86.0 F\n",
      "\n",
      "Conversión de C a K:\n",
      "30 C es igual a 303.15 K\n",
      "\n",
      "Conversión de F a C:\n",
      "30 F es igual a -1.1111111111111112 C\n",
      "\n",
      "Conversión de F a K:\n",
      "30 F es igual a 272.0388888888889 K\n",
      "\n",
      "Conversión de K a C:\n",
      "30 K es igual a -243.14999999999998 C\n",
      "\n",
      "Conversión de K a F:\n",
      "30 K es igual a -405.66999999999996 F\n",
      "\n"
     ]
    }
   ],
   "source": [
    "temperaturas = [\"C\", \"F\", \"K\"]\n",
    "\n",
    "for origen in temperaturas:\n",
    "    for destino in temperaturas:\n",
    "        if origen!= destino:\n",
    "            print(f\"Conversión de {origen} a {destino}:\")\n",
    "            valor = 30  # Valor de ejemplo\n",
    "            resultado = convertir_temperatura(valor, origen, destino)\n",
    "            print(f\"{valor} {origen} es igual a {resultado} {destino}\")\n",
    "            print()"
   ]
  },
  {
   "attachments": {},
   "cell_type": "markdown",
   "metadata": {},
   "source": [
    "6) Armar una función que devuelva el factorial de un número. Tener en cuenta que el usuario puede equivocarse y enviar de parámetro un número no entero o negativo"
   ]
  },
  {
   "cell_type": "code",
   "execution_count": 30,
   "metadata": {},
   "outputs": [],
   "source": [
    "import math\n",
    "\n",
    "def c_factorial(numero):\n",
    "    factorial = 0\n",
    "    if type(numero) != int:\n",
    "        return 'Debe imgresar un numero entero'\n",
    "    if numero < 0:\n",
    "        return 'el numero debe ser positivo'\n",
    "    if numero <= 1:\n",
    "        return 1\n",
    "    \n",
    "    factorial = math.factorial(numero)\n",
    "    return factorial"
   ]
  },
  {
   "cell_type": "code",
   "execution_count": 31,
   "metadata": {},
   "outputs": [
    {
     "name": "stdout",
     "output_type": "stream",
     "text": [
      "120\n",
      "el numero debe ser positivo\n",
      "Debe imgresar un numero entero\n",
      "Debe imgresar un numero entero\n"
     ]
    }
   ],
   "source": [
    "print(c_factorial(5))\n",
    "print(c_factorial(-2))\n",
    "print(c_factorial(1.23))\n",
    "print(c_factorial('6'))"
   ]
  }
 ],
 "metadata": {
  "interpreter": {
   "hash": "c85384e4cb51c8b72350f3a8712cc8351fdc3955e32a27f9b60c6242ab125f01"
  },
  "kernelspec": {
   "display_name": "Python 3 (ipykernel)",
   "language": "python",
   "name": "python3"
  },
  "language_info": {
   "codemirror_mode": {
    "name": "ipython",
    "version": 3
   },
   "file_extension": ".py",
   "mimetype": "text/x-python",
   "name": "python",
   "nbconvert_exporter": "python",
   "pygments_lexer": "ipython3",
   "version": "3.12.5"
  }
 },
 "nbformat": 4,
 "nbformat_minor": 4
}
