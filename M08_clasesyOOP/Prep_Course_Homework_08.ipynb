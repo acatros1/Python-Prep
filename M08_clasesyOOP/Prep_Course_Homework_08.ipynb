{
 "cells": [
  {
   "attachments": {},
   "cell_type": "markdown",
   "metadata": {},
   "source": [
    "## Clases y Programación Orientada a Objetos"
   ]
  },
  {
   "attachments": {},
   "cell_type": "markdown",
   "metadata": {},
   "source": [
    "1) Crear la clase vehículo que contenga los atributos:<br>\n",
    "Color<br>\n",
    "Si es moto, auto, camioneta ó camión<br>\n",
    "Cilindrada del motor"
   ]
  },
  {
   "cell_type": "code",
   "execution_count": 4,
   "metadata": {},
   "outputs": [],
   "source": [
    "class VEHICULO:\n",
    "    def __init__(self, color, tipo, cilindrada):\n",
    "        self.color = color\n",
    "        self.tipo = tipo\n",
    "        self.cilindrada = cilindrada \n",
    "        self.velocidad = 0\n",
    "        self.direccion = None\n",
    "        "
   ]
  },
  {
   "attachments": {},
   "cell_type": "markdown",
   "metadata": {},
   "source": [
    "2) A la clase Vehiculo creada en el punto 1, agregar los siguientes métodos:<br>\n",
    "Acelerar<br>\n",
    "Frenar<br>\n",
    "Doblar<br>"
   ]
  },
  {
   "cell_type": "code",
   "execution_count": 12,
   "metadata": {},
   "outputs": [],
   "source": [
    "class VEHICULO:\n",
    "    def __init__(self, color, tipo, cilindrada):\n",
    "        self.color = color\n",
    "        self.tipo = tipo\n",
    "        self.cilindrada = cilindrada \n",
    "        self.velocidad = 0\n",
    "        self.direccion = None\n",
    "        \n",
    "        \n",
    "    def acelerar(self):\n",
    "        self.velocidad += 10\n",
    "        print(f\"El vehículo está acelerando... Velocidad actual: {self.velocidad} km/h\")\n",
    "\n",
    "    def frenar(self):\n",
    "        if self.velocidad > 0:\n",
    "            self.velocidad -=10\n",
    "            if self.velocidad < 0:\n",
    "                self.velocidad = 0\n",
    "            print(f\"El vehículo está frenando... Velocidad actual: {self.velocidad} km/h\")\n",
    "        else:\n",
    "            print(\"El vehivulo ya esta parado\")\n",
    "\n",
    "    def doblando(self, dirrecn):\n",
    "        if self.velocidad > 0:\n",
    "            print(f\"El vehiculo esta doblando a la {direccion}\")\n",
    "        else:\n",
    "            print(\"El vehivulo esta parado, no puede doblar\")\n"
   ]
  },
  {
   "attachments": {},
   "cell_type": "markdown",
   "metadata": {},
   "source": [
    "3) Instanciar 3 objetos de la clase vehículo y ejecutar sus métodos, probar luego el resultado"
   ]
  },
  {
   "cell_type": "code",
   "execution_count": 15,
   "metadata": {},
   "outputs": [],
   "source": [
    "v1 = VEHICULO('rojo', 'carro', 'v6')\n",
    "v2 = VEHICULO('azul', 'moto', 'v2')\n",
    "v3 = VEHICULO('amarillo', 'bici', 'none')"
   ]
  },
  {
   "attachments": {},
   "cell_type": "markdown",
   "metadata": {},
   "source": [
    "4) Agregar a la clase Vehiculo, un método que muestre su estado, es decir, a que velocidad se encuentra y su dirección. Y otro método que muestre color, tipo y cilindrada"
   ]
  },
  {
   "cell_type": "code",
   "execution_count": 16,
   "metadata": {},
   "outputs": [
    {
     "name": "stdout",
     "output_type": "stream",
     "text": [
      "El vehiculo esta parado.\n"
     ]
    }
   ],
   "source": [
    "class VEHICULO:\n",
    "    def __init__(self, color, tipo, cilindrada):\n",
    "        self.color = color\n",
    "        self.tipo = tipo\n",
    "        self.cilindrada = cilindrada \n",
    "        self.velocidad = 0\n",
    "        self.direccion = None\n",
    "        \n",
    "        \n",
    "    def acelerar(self):\n",
    "        self.velocidad += 10\n",
    "        print(f\"El vehículo está acelerando... Velocidad actual: {self.velocidad} km/h\")\n",
    "\n",
    "    def frenar(self):\n",
    "        if self.velocidad > 0:\n",
    "            self.velocidad -=10\n",
    "            if self.velocidad < 0:\n",
    "                self.velocidad = 0\n",
    "            print(f\"El vehículo está frenando... Velocidad actual: {self.velocidad} km/h\")\n",
    "        else:\n",
    "            print(\"El vehivulo ya esta parado\")\n",
    "\n",
    "    def doblando(self, dirrecn):\n",
    "        if self.velocidad > 0:\n",
    "            print(f\"El vehiculo esta doblando a la {direccion}\")\n",
    "        else:\n",
    "            print(\"El vehivulo esta parado, no puede doblar\")\n",
    "\n",
    "    def mostrar_estado(self):\n",
    "        if self.velocidad ==0:\n",
    "            print(f\"El vehiculo esta parado.\")\n",
    "        else:\n",
    "            print(f\"El vehiculo esta en movimieno con una velocidad de {self.velocidad} Km/h.\")\n",
    "\n",
    "    def mostrar_caracteristicas(self):\n",
    "        print(f\"Color:{self.color}\")\n",
    "        print(f\"Tipo: {self.tipo}\")\n",
    "        print(f\"Cilindrada: {self.cilindrada}\")\n",
    "\n",
    "v1 = VEHICULO('rojo', 'carro', 'v6')\n",
    "v2 = VEHICULO('azul', 'moto', 'v2')\n",
    "v3 = VEHICULO('amarillo', 'bici', 'none')\n",
    "\n",
    "v1.mostrar_estado()\n",
    "\n"
   ]
  },
  {
   "cell_type": "code",
   "execution_count": null,
   "metadata": {},
   "outputs": [],
   "source": []
  },
  {
   "attachments": {},
   "cell_type": "markdown",
   "metadata": {},
   "source": [
    "5) Crear una clase que permita utilizar las funciones creadas en la práctica del módulo 7<br>\n",
    "Verificar Primo<br>\n",
    "Valor modal<br>\n",
    "Conversión grados<br>\n",
    "Factorial<br>"
   ]
  },
  {
   "cell_type": "code",
   "execution_count": null,
   "metadata": {},
   "outputs": [],
   "source": []
  },
  {
   "attachments": {},
   "cell_type": "markdown",
   "metadata": {},
   "source": [
    "6) Probar las funciones incorporadas en la clase del punto 5"
   ]
  },
  {
   "cell_type": "code",
   "execution_count": null,
   "metadata": {},
   "outputs": [],
   "source": []
  },
  {
   "attachments": {},
   "cell_type": "markdown",
   "metadata": {},
   "source": [
    "7) Es necesario que la clase creada en el punto 5 contenga una lista, sobre la cual se apliquen las funciones incorporadas"
   ]
  },
  {
   "cell_type": "code",
   "execution_count": null,
   "metadata": {},
   "outputs": [],
   "source": []
  },
  {
   "attachments": {},
   "cell_type": "markdown",
   "metadata": {},
   "source": [
    "8) Crear un archivo .py aparte y ubicar allí la clase generada en el punto anterior. Luego realizar la importación del módulo y probar alguna de sus funciones"
   ]
  },
  {
   "cell_type": "code",
   "execution_count": null,
   "metadata": {},
   "outputs": [],
   "source": []
  }
 ],
 "metadata": {
  "kernelspec": {
   "display_name": "Python 3",
   "language": "python",
   "name": "python3"
  },
  "language_info": {
   "codemirror_mode": {
    "name": "ipython",
    "version": 3
   },
   "file_extension": ".py",
   "mimetype": "text/x-python",
   "name": "python",
   "nbconvert_exporter": "python",
   "pygments_lexer": "ipython3",
   "version": "3.12.6"
  }
 },
 "nbformat": 4,
 "nbformat_minor": 4
}
