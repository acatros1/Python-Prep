{
 "cells": [
  {
   "attachments": {},
   "cell_type": "markdown",
   "metadata": {},
   "source": [
    "## Clases y Programación Orientada a Objetos"
   ]
  },
  {
   "attachments": {},
   "cell_type": "markdown",
   "metadata": {},
   "source": [
    "1) Crear la clase vehículo que contenga los atributos:<br>\n",
    "Color<br>\n",
    "Si es moto, auto, camioneta ó camión<br>\n",
    "Cilindrada del motor"
   ]
  },
  {
   "cell_type": "code",
   "execution_count": 4,
   "metadata": {},
   "outputs": [],
   "source": [
    "class VEHICULO:\n",
    "    def __init__(self, color, tipo, cilindrada):\n",
    "        self.color = color\n",
    "        self.tipo = tipo\n",
    "        self.cilindrada = cilindrada \n",
    "        self.velocidad = 0\n",
    "        self.direccion = None\n",
    "        "
   ]
  },
  {
   "attachments": {},
   "cell_type": "markdown",
   "metadata": {},
   "source": [
    "2) A la clase Vehiculo creada en el punto 1, agregar los siguientes métodos:<br>\n",
    "Acelerar<br>\n",
    "Frenar<br>\n",
    "Doblar<br>"
   ]
  },
  {
   "cell_type": "code",
   "execution_count": 12,
   "metadata": {},
   "outputs": [],
   "source": [
    "class VEHICULO:\n",
    "    def __init__(self, color, tipo, cilindrada):\n",
    "        self.color = color\n",
    "        self.tipo = tipo\n",
    "        self.cilindrada = cilindrada \n",
    "        self.velocidad = 0\n",
    "        self.direccion = None\n",
    "        \n",
    "        \n",
    "    def acelerar(self):\n",
    "        self.velocidad += 10\n",
    "        print(f\"El vehículo está acelerando... Velocidad actual: {self.velocidad} km/h\")\n",
    "\n",
    "    def frenar(self):\n",
    "        if self.velocidad > 0:\n",
    "            self.velocidad -=10\n",
    "            if self.velocidad < 0:\n",
    "                self.velocidad = 0\n",
    "            print(f\"El vehículo está frenando... Velocidad actual: {self.velocidad} km/h\")\n",
    "        else:\n",
    "            print(\"El vehivulo ya esta parado\")\n",
    "\n",
    "    def doblando(self, dirrecn):\n",
    "        if self.velocidad > 0:\n",
    "            print(f\"El vehiculo esta doblando a la {direccion}\")\n",
    "        else:\n",
    "            print(\"El vehivulo esta parado, no puede doblar\")\n"
   ]
  },
  {
   "attachments": {},
   "cell_type": "markdown",
   "metadata": {},
   "source": [
    "3) Instanciar 3 objetos de la clase vehículo y ejecutar sus métodos, probar luego el resultado"
   ]
  },
  {
   "cell_type": "code",
   "execution_count": 15,
   "metadata": {},
   "outputs": [],
   "source": [
    "v1 = VEHICULO('rojo', 'carro', 'v6')\n",
    "v2 = VEHICULO('azul', 'moto', 'v2')\n",
    "v3 = VEHICULO('amarillo', 'bici', 'none')"
   ]
  },
  {
   "attachments": {},
   "cell_type": "markdown",
   "metadata": {},
   "source": [
    "4) Agregar a la clase Vehiculo, un método que muestre su estado, es decir, a que velocidad se encuentra y su dirección. Y otro método que muestre color, tipo y cilindrada"
   ]
  },
  {
   "cell_type": "code",
   "execution_count": 8,
   "metadata": {},
   "outputs": [
    {
     "name": "stdout",
     "output_type": "stream",
     "text": [
      "El vehiculo esta parado.\n",
      "El vehículo está acelerando... Velocidad actual: 10 km/h\n",
      "El vehiculo esta doblando a la derecha\n"
     ]
    }
   ],
   "source": [
    "class VEHICULO:\n",
    "    def __init__(self, color, tipo, cilindrada):\n",
    "        self.color = color\n",
    "        self.tipo = tipo\n",
    "        self.cilindrada = cilindrada \n",
    "        self.velocidad = 0\n",
    "        self.direccion = None\n",
    "        \n",
    "        \n",
    "    def acelerar(self):\n",
    "        self.velocidad += 10\n",
    "        print(f\"El vehículo está acelerando... Velocidad actual: {self.velocidad} km/h\")\n",
    "\n",
    "    def frenar(self):\n",
    "        if self.velocidad > 0:\n",
    "            self.velocidad -=10\n",
    "            if self.velocidad < 0:\n",
    "                self.velocidad = 0\n",
    "            print(f\"El vehículo está frenando... Velocidad actual: {self.velocidad} km/h\")\n",
    "        else:\n",
    "            print(\"El vehivulo ya esta parado\")\n",
    "\n",
    "    def doblando(self, direcion):\n",
    "        if self.velocidad > 0:\n",
    "            print(f\"El vehiculo esta doblando a la {direcion}\")\n",
    "        else:\n",
    "            print(\"El vehivulo esta parado, no puede doblar\")\n",
    "\n",
    "    def mostrar_estado(self):\n",
    "        if self.velocidad ==0:\n",
    "            print(f\"El vehiculo esta parado.\")\n",
    "        else:\n",
    "            print(f\"El vehiculo esta en movimieno con una velocidad de {self.velocidad} Km/h.\")\n",
    "\n",
    "    def mostrar_caracteristicas(self):\n",
    "        print(f\"Color:{self.color}\")\n",
    "        print(f\"Tipo: {self.tipo}\")\n",
    "        print(f\"Cilindrada: {self.cilindrada}\")\n",
    "\n",
    "v1 = VEHICULO('rojo', 'carro', 'v6')\n",
    "v2 = VEHICULO('azul', 'moto', 'v2')\n",
    "v3 = VEHICULO('amarillo', 'bici', 'none')\n",
    "\n",
    "v1.mostrar_estado()\n",
    "v2.acelerar()\n",
    "v2.doblando(\"derecha\")\n",
    "\n"
   ]
  },
  {
   "attachments": {},
   "cell_type": "markdown",
   "metadata": {},
   "source": [
    "5) Crear una clase que permita utilizar las funciones creadas en la práctica del módulo 7<br>\n",
    "Verificar Primo<br>\n",
    "Valor modal<br>\n",
    "Conversión grados<br>\n",
    "Factorial<br>"
   ]
  },
  {
   "cell_type": "code",
   "execution_count": 11,
   "metadata": {},
   "outputs": [],
   "source": [
    "import math\n",
    "\n",
    "class HERRAMIENTAS:\n",
    "    def __init__(self):\n",
    "        pass\n",
    "\n",
    "    def primo(self, numero):\n",
    "        if numero < 2:\n",
    "            return False\n",
    "        for i in range(2, numero):\n",
    "            if numero % i == 0:\n",
    "                return False\n",
    "        return True\n",
    "\n",
    "    def numeros_primos(self, numerosL):\n",
    "        Lprimos = []\n",
    "        for i in numerosL:\n",
    "            if self.primo(i) == True:\n",
    "                Lprimos.append(i)\n",
    "        return Lprimos\n",
    "    \n",
    "    def numero_repetido(self, numerosR):\n",
    "        max_repetidos = 0\n",
    "        repite = 0\n",
    "        for i in numerosR:\n",
    "            contador = numerosR.count(i)\n",
    "            if contador > max_repetidos:\n",
    "                max_repetidos = contador\n",
    "                repite = i\n",
    "        return  [repite, max_repetidos]\n",
    "    \n",
    "    def mas_repetido(self, lista):\n",
    "        # Crea un diccionario para contar la frecuencia de cada número\n",
    "        frecuencias = {}\n",
    "        for num in lista:\n",
    "            if num in frecuencias:\n",
    "                frecuencias[num] += 1\n",
    "            else:\n",
    "                frecuencias[num] = 1\n",
    "\n",
    "        # Busca el número con la frecuencia más alta\n",
    "        max_frecuencia = max(frecuencias.values())\n",
    "        mas_repetido = [num for num, freq in frecuencias.items() if freq == max_frecuencia][0]\n",
    "\n",
    "        return mas_repetido, max_frecuencia\n",
    "    \n",
    "    def convertir_temperatura(self, valor, origen, destino):\n",
    "        if origen == \"C\" and destino == \"F\":\n",
    "            return (valor * 9/5) + 32\n",
    "        elif origen == \"C\" and destino == \"K\":\n",
    "            return valor + 273.15\n",
    "        elif origen == \"F\" and destino == \"C\":\n",
    "            return (valor - 32) * 5/9\n",
    "        elif origen == \"F\" and destino == \"K\":\n",
    "            return (valor - 32) * 5/9 + 273.15\n",
    "        elif origen == \"K\" and destino == \"C\":\n",
    "            return valor - 273.15\n",
    "        elif origen == \"K\" and destino == \"F\":\n",
    "            return (valor - 273.15) * 9/5 + 32\n",
    "        else:\n",
    "            raise ValueError(\"Origen o destino no válido\")\n",
    "    \n",
    "\n",
    "    def c_factorial(self, numero):\n",
    "        factorial = 0\n",
    "        if type(numero) != int:\n",
    "            return 'Debe imgresar un numero entero'\n",
    "        if numero < 0:\n",
    "            return 'el numero debe ser positivo'\n",
    "        if numero <= 1:\n",
    "            return 1\n",
    "    \n",
    "        factorial = math.factorial(numero)\n",
    "        return factorial"
   ]
  },
  {
   "cell_type": "code",
   "execution_count": 12,
   "metadata": {},
   "outputs": [],
   "source": [
    "h = HERRAMIENTAS()"
   ]
  },
  {
   "attachments": {},
   "cell_type": "markdown",
   "metadata": {},
   "source": [
    "6) Probar las funciones incorporadas en la clase del punto 5"
   ]
  },
  {
   "cell_type": "code",
   "execution_count": 13,
   "metadata": {},
   "outputs": [
    {
     "data": {
      "text/plain": [
       "True"
      ]
     },
     "execution_count": 13,
     "metadata": {},
     "output_type": "execute_result"
    }
   ],
   "source": [
    "h.primo(7)"
   ]
  },
  {
   "cell_type": "code",
   "execution_count": null,
   "metadata": {},
   "outputs": [],
   "source": [
    "listado = [1,8,2,5,4,8,10,7]\n",
    "moda, repe = h.mas_repetido(listado)\n",
    "print(f\"El valor modal es {moda} y se repite {repe} veces\")"
   ]
  },
  {
   "cell_type": "code",
   "execution_count": 14,
   "metadata": {},
   "outputs": [
    {
     "data": {
      "text/plain": [
       "50.0"
      ]
     },
     "execution_count": 14,
     "metadata": {},
     "output_type": "execute_result"
    }
   ],
   "source": [
    "h.convertir_temperatura(10, 'C', 'F')"
   ]
  },
  {
   "cell_type": "code",
   "execution_count": 15,
   "metadata": {},
   "outputs": [
    {
     "data": {
      "text/plain": [
       "720"
      ]
     },
     "execution_count": 15,
     "metadata": {},
     "output_type": "execute_result"
    }
   ],
   "source": [
    "h.c_factorial(6)"
   ]
  },
  {
   "attachments": {},
   "cell_type": "markdown",
   "metadata": {},
   "source": [
    "7) Es necesario que la clase creada en el punto 5 contenga una lista, sobre la cual se apliquen las funciones incorporadas"
   ]
  },
  {
   "cell_type": "code",
   "execution_count": 18,
   "metadata": {},
   "outputs": [],
   "source": [
    "import math\n",
    "\n",
    "class HERRAMIENTAS:\n",
    "    def __init__(self, lista_numeros):\n",
    "        self.lista = lista_numeros\n",
    "\n",
    "    def primo(self, numero):\n",
    "        if numero < 2:\n",
    "            return False\n",
    "        for i in range(2, numero):\n",
    "            if numero % i == 0:\n",
    "                return False\n",
    "        return True\n",
    "\n",
    "    def numeros_primos(self):\n",
    "        Lprimos = []\n",
    "        for i in self.lista:\n",
    "            if self.primo(i) == True:\n",
    "                Lprimos.append(i)\n",
    "        return Lprimos\n",
    "    \n",
    "    def numero_repetido(self, numerosR):\n",
    "        max_repetidos = 0\n",
    "        repite = 0\n",
    "        for i in numerosR:\n",
    "            contador = numerosR.count(i)\n",
    "            if contador > max_repetidos:\n",
    "                max_repetidos = contador\n",
    "                repite = i\n",
    "        return  [repite, max_repetidos]\n",
    "    \n",
    "    def mas_repetido(self):\n",
    "        # Crea un diccionario para contar la frecuencia de cada número\n",
    "        frecuencias = {}\n",
    "        for num in self.lista:\n",
    "            if num in frecuencias:\n",
    "                frecuencias[num] += 1\n",
    "            else:\n",
    "                frecuencias[num] = 1\n",
    "\n",
    "        # Busca el número con la frecuencia más alta\n",
    "        max_frecuencia = max(frecuencias.values())\n",
    "        mas_repetido = [num for num, freq in frecuencias.items() if freq == max_frecuencia][0]\n",
    "\n",
    "        return mas_repetido, max_frecuencia\n",
    "    \n",
    "    def convertir_temperatura(self, valor, origen, destino):\n",
    "        if origen == \"C\" and destino == \"F\":\n",
    "            return (valor * 9/5) + 32\n",
    "        elif origen == \"C\" and destino == \"K\":\n",
    "            return valor + 273.15\n",
    "        elif origen == \"F\" and destino == \"C\":\n",
    "            return (valor - 32) * 5/9\n",
    "        elif origen == \"F\" and destino == \"K\":\n",
    "            return (valor - 32) * 5/9 + 273.15\n",
    "        elif origen == \"K\" and destino == \"C\":\n",
    "            return valor - 273.15\n",
    "        elif origen == \"K\" and destino == \"F\":\n",
    "            return (valor - 273.15) * 9/5 + 32\n",
    "        else:\n",
    "            raise ValueError(\"Origen o destino no válido\")\n",
    "    \n",
    "\n",
    "    def c_factorial(self, numero):\n",
    "        factorial = 0\n",
    "        if type(numero) != int:\n",
    "            return 'Debe imgresar un numero entero'\n",
    "        if numero < 0:\n",
    "            return 'el numero debe ser positivo'\n",
    "        if numero <= 1:\n",
    "            return 1\n",
    "    \n",
    "        factorial = math.factorial(numero)\n",
    "        return factorial"
   ]
  },
  {
   "cell_type": "code",
   "execution_count": 19,
   "metadata": {},
   "outputs": [],
   "source": [
    "h = HERRAMIENTAS([1,1,2,5,8,8,9,11,15,16,16,16,18,20])"
   ]
  },
  {
   "cell_type": "code",
   "execution_count": 20,
   "metadata": {},
   "outputs": [
    {
     "data": {
      "text/plain": [
       "[2, 5, 11]"
      ]
     },
     "execution_count": 20,
     "metadata": {},
     "output_type": "execute_result"
    }
   ],
   "source": [
    "h.numeros_primos()"
   ]
  },
  {
   "cell_type": "code",
   "execution_count": 23,
   "metadata": {},
   "outputs": [
    {
     "name": "stdout",
     "output_type": "stream",
     "text": [
      "El valor modal es 16 y se repite 3 veces\n"
     ]
    }
   ],
   "source": [
    "moda, repe = h.mas_repetido()\n",
    "print(f\"El valor modal es {moda} y se repite {repe} veces\")"
   ]
  },
  {
   "attachments": {},
   "cell_type": "markdown",
   "metadata": {},
   "source": [
    "8) Crear un archivo .py aparte y ubicar allí la clase generada en el punto anterior. Luego realizar la importación del módulo y probar alguna de sus funciones"
   ]
  },
  {
   "cell_type": "code",
   "execution_count": 24,
   "metadata": {},
   "outputs": [
    {
     "data": {
      "text/plain": [
       "[2, 3, 5]"
      ]
     },
     "execution_count": 24,
     "metadata": {},
     "output_type": "execute_result"
    }
   ],
   "source": [
    "from misherramientas import *\n",
    "h2 = HERRAMIENTAS ([1,1,2,3,5,6,8,8])\n",
    "h2.numeros_primos()\n"
   ]
  }
 ],
 "metadata": {
  "kernelspec": {
   "display_name": "Python 3",
   "language": "python",
   "name": "python3"
  },
  "language_info": {
   "codemirror_mode": {
    "name": "ipython",
    "version": 3
   },
   "file_extension": ".py",
   "mimetype": "text/x-python",
   "name": "python",
   "nbconvert_exporter": "python",
   "pygments_lexer": "ipython3",
   "version": "3.12.6"
  }
 },
 "nbformat": 4,
 "nbformat_minor": 4
}
