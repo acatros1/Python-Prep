{
 "cells": [
  {
   "attachments": {},
   "cell_type": "markdown",
   "metadata": {},
   "source": [
    "## Manejo de errores"
   ]
  },
  {
   "attachments": {},
   "cell_type": "markdown",
   "metadata": {},
   "source": [
    "1) Con la clase creada en el módulo 7, tener en cuenta diferentes casos en que el código pudiera arrojar error. Por ejemplo, en la creación del objeto recibimos una lista de números enteros pero ¿qué pasa si se envía otro tipo de dato?"
   ]
  },
  {
   "cell_type": "code",
   "execution_count": 27,
   "metadata": {},
   "outputs": [],
   "source": [
    "import sys\n",
    "sys.path.append(r'/home/acatros/Python-Prep/')\n",
    "import misherramientas as h\n",
    "\n",
    "h1 = h.Misherramientas(\"hola\")"
   ]
  },
  {
   "cell_type": "code",
   "execution_count": 28,
   "metadata": {},
   "outputs": [],
   "source": [
    "h1 = h.Misherramientas([2,3,5,6,2])"
   ]
  },
  {
   "attachments": {},
   "cell_type": "markdown",
   "metadata": {},
   "source": [
    "2) En la función que hace la conversión de grados, validar que los parámetros enviados sean los esperados, de no serlo, informar cuáles son los valores esperados."
   ]
  },
  {
   "cell_type": "code",
   "execution_count": 29,
   "metadata": {},
   "outputs": [
    {
     "data": {
      "text/plain": [
       "<module 'misherramientas' from '/home/acatros/Python-Prep/M09_errorhandling/misherramientas.py'>"
      ]
     },
     "execution_count": 29,
     "metadata": {},
     "output_type": "execute_result"
    }
   ],
   "source": [
    "import importlib  #se importa el módulo importlib, el cual proporciona funciones para recargar (reload) módulos previamente importados. \n",
    "importlib.reload(h) "
   ]
  },
  {
   "cell_type": "code",
   "execution_count": 30,
   "metadata": {},
   "outputs": [],
   "source": [
    "h1 = h.Misherramientas([2,3,5,6,2])"
   ]
  },
  {
   "cell_type": "code",
   "execution_count": 31,
   "metadata": {},
   "outputs": [
    {
     "ename": "ValueError",
     "evalue": "Origen no válido. Debe ser 'C', 'F' o 'K'",
     "output_type": "error",
     "traceback": [
      "\u001b[0;31m---------------------------------------------------------------------------\u001b[0m",
      "\u001b[0;31mValueError\u001b[0m                                Traceback (most recent call last)",
      "Cell \u001b[0;32mIn[31], line 1\u001b[0m\n\u001b[0;32m----> 1\u001b[0m \u001b[43mh1\u001b[49m\u001b[38;5;241;43m.\u001b[39;49m\u001b[43mconvertir_temperatura\u001b[49m\u001b[43m(\u001b[49m\u001b[38;5;241;43m1\u001b[39;49m\u001b[43m,\u001b[49m\u001b[38;5;241;43m2\u001b[39;49m\u001b[43m,\u001b[49m\u001b[38;5;241;43m3\u001b[39;49m\u001b[43m)\u001b[49m\n",
      "File \u001b[0;32m~/Python-Prep/M09_errorhandling/misherramientas.py:38\u001b[0m, in \u001b[0;36mMisherramientas.convertir_temperatura\u001b[0;34m(self, valor, origen, destino)\u001b[0m\n\u001b[1;32m     36\u001b[0m     \u001b[38;5;28;01mraise\u001b[39;00m \u001b[38;5;167;01mValueError\u001b[39;00m(\u001b[38;5;124m\"\u001b[39m\u001b[38;5;124mEl valor debe ser un número\u001b[39m\u001b[38;5;124m\"\u001b[39m)\n\u001b[1;32m     37\u001b[0m \u001b[38;5;28;01mif\u001b[39;00m origen \u001b[38;5;129;01mnot\u001b[39;00m \u001b[38;5;129;01min\u001b[39;00m [\u001b[38;5;124m\"\u001b[39m\u001b[38;5;124mC\u001b[39m\u001b[38;5;124m\"\u001b[39m, \u001b[38;5;124m\"\u001b[39m\u001b[38;5;124mF\u001b[39m\u001b[38;5;124m\"\u001b[39m, \u001b[38;5;124m\"\u001b[39m\u001b[38;5;124mK\u001b[39m\u001b[38;5;124m\"\u001b[39m]:\n\u001b[0;32m---> 38\u001b[0m     \u001b[38;5;28;01mraise\u001b[39;00m \u001b[38;5;167;01mValueError\u001b[39;00m(\u001b[38;5;124m\"\u001b[39m\u001b[38;5;124mOrigen no válido. Debe ser \u001b[39m\u001b[38;5;124m'\u001b[39m\u001b[38;5;124mC\u001b[39m\u001b[38;5;124m'\u001b[39m\u001b[38;5;124m, \u001b[39m\u001b[38;5;124m'\u001b[39m\u001b[38;5;124mF\u001b[39m\u001b[38;5;124m'\u001b[39m\u001b[38;5;124m o \u001b[39m\u001b[38;5;124m'\u001b[39m\u001b[38;5;124mK\u001b[39m\u001b[38;5;124m'\u001b[39m\u001b[38;5;124m\"\u001b[39m)\n\u001b[1;32m     39\u001b[0m \u001b[38;5;28;01mif\u001b[39;00m destino \u001b[38;5;129;01mnot\u001b[39;00m \u001b[38;5;129;01min\u001b[39;00m [\u001b[38;5;124m\"\u001b[39m\u001b[38;5;124mC\u001b[39m\u001b[38;5;124m\"\u001b[39m, \u001b[38;5;124m\"\u001b[39m\u001b[38;5;124mF\u001b[39m\u001b[38;5;124m\"\u001b[39m, \u001b[38;5;124m\"\u001b[39m\u001b[38;5;124mK\u001b[39m\u001b[38;5;124m\"\u001b[39m]:\n\u001b[1;32m     40\u001b[0m     \u001b[38;5;28;01mraise\u001b[39;00m \u001b[38;5;167;01mValueError\u001b[39;00m(\u001b[38;5;124m\"\u001b[39m\u001b[38;5;124mDestino no válido. Debe ser \u001b[39m\u001b[38;5;124m'\u001b[39m\u001b[38;5;124mC\u001b[39m\u001b[38;5;124m'\u001b[39m\u001b[38;5;124m, \u001b[39m\u001b[38;5;124m'\u001b[39m\u001b[38;5;124mF\u001b[39m\u001b[38;5;124m'\u001b[39m\u001b[38;5;124m o \u001b[39m\u001b[38;5;124m'\u001b[39m\u001b[38;5;124mK\u001b[39m\u001b[38;5;124m'\u001b[39m\u001b[38;5;124m\"\u001b[39m)\n",
      "\u001b[0;31mValueError\u001b[0m: Origen no válido. Debe ser 'C', 'F' o 'K'"
     ]
    }
   ],
   "source": [
    "h1.convertir_temperatura(1,2,3)"
   ]
  },
  {
   "attachments": {},
   "cell_type": "markdown",
   "metadata": {},
   "source": [
    "3) Importar el modulo \"unittest\" y crear los siguientes casos de pruebas sobre la clase utilizada en el punto 2<br>\n",
    "Creacion del objeto incorrecta<br>\n",
    "Creacion correcta del objeto<br>\n",
    "Metodo valor_modal()<br>\n",
    "\n",
    "Se puede usar \"raise ValueError()\" en la creación de la clase para verificar el error. Investigar sobre esta funcionalidad."
   ]
  },
  {
   "cell_type": "code",
   "execution_count": 32,
   "metadata": {},
   "outputs": [
    {
     "name": "stderr",
     "output_type": "stream",
     "text": [
      "test_crea_objetos1 (__main__.ProbarMisherramientas.test_crea_objetos1) ... FAIL\n",
      "test_crear_objetos2 (__main__.ProbarMisherramientas.test_crear_objetos2) ... ok\n",
      "test_crear_objetos3 (__main__.ProbarMisherramientas.test_crear_objetos3) ... ERROR\n",
      "test_numeros_primos (__main__.TestMisherramientas.test_numeros_primos) ... FAIL\n",
      "test_numeros_primos_repetidos (__main__.TestMisherramientas.test_numeros_primos_repetidos) ... ok\n",
      "test_numeros_primos_vacio (__main__.TestMisherramientas.test_numeros_primos_vacio) ... ok\n",
      "\n",
      "======================================================================\n",
      "ERROR: test_crear_objetos3 (__main__.ProbarMisherramientas.test_crear_objetos3)\n",
      "----------------------------------------------------------------------\n",
      "Traceback (most recent call last):\n",
      "  File \"/tmp/ipykernel_25223/3721023381.py\", line 15, in test_crear_objetos3\n",
      "    moda, veces = h1.numero_repetido(h1.lista)\n",
      "                  ^^^^^^^^^^^^^^^^^^^^^^^^^^^^\n",
      "TypeError: Misherramientas.numero_repetido() takes 1 positional argument but 2 were given\n",
      "\n",
      "======================================================================\n",
      "FAIL: test_crea_objetos1 (__main__.ProbarMisherramientas.test_crea_objetos1)\n",
      "----------------------------------------------------------------------\n",
      "Traceback (most recent call last):\n",
      "  File \"/tmp/ipykernel_25223/3721023381.py\", line 7, in test_crea_objetos1\n",
      "    self.assertRaises(ValueError, h.Misherramientas, parametro)\n",
      "AssertionError: ValueError not raised by Misherramientas\n",
      "\n",
      "======================================================================\n",
      "FAIL: test_numeros_primos (__main__.TestMisherramientas.test_numeros_primos)\n",
      "----------------------------------------------------------------------\n",
      "Traceback (most recent call last):\n",
      "  File \"/tmp/ipykernel_25223/291067095.py\", line 7, in test_numeros_primos\n",
      "    self.assertEqual(misherramientas.numeros_primos(), [True, True, False, True, False, True, False, False])\n",
      "AssertionError: Lists differ: [2, 3, 5, 7] != [True, True, False, True, False, True, False, False]\n",
      "\n",
      "First differing element 0:\n",
      "2\n",
      "True\n",
      "\n",
      "Second list contains 4 additional elements.\n",
      "First extra element 4:\n",
      "False\n",
      "\n",
      "- [2, 3, 5, 7]\n",
      "+ [True, True, False, True, False, True, False, False]\n",
      "\n",
      "----------------------------------------------------------------------\n",
      "Ran 6 tests in 0.028s\n",
      "\n",
      "FAILED (failures=2, errors=1)\n"
     ]
    },
    {
     "data": {
      "text/plain": [
       "<unittest.main.TestProgram at 0x77b4945aa660>"
      ]
     },
     "execution_count": 32,
     "metadata": {},
     "output_type": "execute_result"
    }
   ],
   "source": [
    "\n",
    "import unittest\n",
    "\n",
    "class ProbarMisherramientas(unittest.TestCase):\n",
    "\n",
    "    def test_crea_objetos1(self):\n",
    "        parametro = \"hola\"\n",
    "        self.assertRaises(ValueError, h.Misherramientas, parametro)\n",
    "    \n",
    "    def test_crear_objetos2(self):\n",
    "        parametro = [1,2,2,5]\n",
    "\n",
    "    def test_crear_objetos3(self):\n",
    "        lis = [1,2,1,3]\n",
    "        h1 = h.Misherramientas(lis)\n",
    "        moda, veces = h1.numero_repetido(h1.lista)\n",
    "        moda = [moda]\n",
    "        moda.append(veces)\n",
    "        resultado = [1, 2]\n",
    "        self.assertEqual(moda, resultado)\n",
    "\n",
    "unittest.main(argv=[''], verbosity=2, exit=False)"
   ]
  },
  {
   "attachments": {},
   "cell_type": "markdown",
   "metadata": {},
   "source": [
    "4) Probar una creación incorrecta y visualizar la salida del \"raise\""
   ]
  },
  {
   "cell_type": "code",
   "execution_count": 13,
   "metadata": {},
   "outputs": [
    {
     "ename": "ValueError",
     "evalue": "Se ha creado una lista vacía. Se esperaba una lista de núemeros enteros",
     "output_type": "error",
     "traceback": [
      "\u001b[0;31m---------------------------------------------------------------------------\u001b[0m",
      "\u001b[0;31mValueError\u001b[0m                                Traceback (most recent call last)",
      "Cell \u001b[0;32mIn[13], line 1\u001b[0m\n\u001b[0;32m----> 1\u001b[0m h2 \u001b[38;5;241m=\u001b[39m \u001b[43mh\u001b[49m\u001b[38;5;241;43m.\u001b[39;49m\u001b[43mMisherramientas\u001b[49m\u001b[43m(\u001b[49m\u001b[38;5;124;43m'\u001b[39;49m\u001b[38;5;124;43malgo\u001b[39;49m\u001b[38;5;124;43m'\u001b[39;49m\u001b[43m)\u001b[49m\n",
      "File \u001b[0;32m~/Python-Prep/M09_errorhandling/misherramientas.py:9\u001b[0m, in \u001b[0;36mMisherramientas.__init__\u001b[0;34m(self, lista_numeros)\u001b[0m\n\u001b[1;32m      7\u001b[0m \u001b[38;5;28;01melse\u001b[39;00m:\n\u001b[1;32m      8\u001b[0m     \u001b[38;5;28mself\u001b[39m\u001b[38;5;241m.\u001b[39mlista \u001b[38;5;241m=\u001b[39m []\n\u001b[0;32m----> 9\u001b[0m     \u001b[38;5;28;01mraise\u001b[39;00m \u001b[38;5;167;01mValueError\u001b[39;00m(\u001b[38;5;124m'\u001b[39m\u001b[38;5;124mSe ha creado una lista vacía. Se esperaba una lista de núemeros enteros\u001b[39m\u001b[38;5;124m'\u001b[39m)\n",
      "\u001b[0;31mValueError\u001b[0m: Se ha creado una lista vacía. Se esperaba una lista de núemeros enteros"
     ]
    }
   ],
   "source": [
    "h2 = h.Misherramientas('algo')"
   ]
  },
  {
   "attachments": {},
   "cell_type": "markdown",
   "metadata": {},
   "source": [
    "6) Agregar casos de pruebas para el método verifica_primos() realizando el cambio en la clase, para que devuelva una lista de True o False en función de que el elemento en la posisicón sea o no primo"
   ]
  },
  {
   "cell_type": "code",
   "execution_count": 26,
   "metadata": {},
   "outputs": [
    {
     "name": "stderr",
     "output_type": "stream",
     "text": [
      "test_crea_objetos1 (__main__.ProbarMisherramientas.test_crea_objetos1) ... FAIL\n",
      "test_crear_objetos2 (__main__.ProbarMisherramientas.test_crear_objetos2) ... ok\n",
      "test_crear_objetos3 (__main__.ProbarMisherramientas.test_crear_objetos3) ... ERROR\n",
      "test_numeros_primos (__main__.TestMisherramientas.test_numeros_primos) ... FAIL\n",
      "test_numeros_primos_repetidos (__main__.TestMisherramientas.test_numeros_primos_repetidos) ... ok\n",
      "test_numeros_primos_vacio (__main__.TestMisherramientas.test_numeros_primos_vacio) ... ok\n",
      "\n"
     ]
    },
    {
     "name": "stderr",
     "output_type": "stream",
     "text": [
      "======================================================================\n",
      "ERROR: test_crear_objetos3 (__main__.ProbarMisherramientas.test_crear_objetos3)\n",
      "----------------------------------------------------------------------\n",
      "Traceback (most recent call last):\n",
      "  File \"/tmp/ipykernel_25223/3721023381.py\", line 15, in test_crear_objetos3\n",
      "    moda, veces = h1.numero_repetido(h1.lista)\n",
      "                  ^^^^^^^^^^^^^^^^^^^^^^^^^^^^\n",
      "TypeError: Misherramientas.numero_repetido() takes 1 positional argument but 2 were given\n",
      "\n",
      "======================================================================\n",
      "FAIL: test_crea_objetos1 (__main__.ProbarMisherramientas.test_crea_objetos1)\n",
      "----------------------------------------------------------------------\n",
      "Traceback (most recent call last):\n",
      "  File \"/tmp/ipykernel_25223/3721023381.py\", line 7, in test_crea_objetos1\n",
      "    self.assertRaises(ValueError, h.Misherramientas, parametro)\n",
      "AssertionError: ValueError not raised by Misherramientas\n",
      "\n",
      "======================================================================\n",
      "FAIL: test_numeros_primos (__main__.TestMisherramientas.test_numeros_primos)\n",
      "----------------------------------------------------------------------\n",
      "Traceback (most recent call last):\n",
      "  File \"/tmp/ipykernel_25223/291067095.py\", line 7, in test_numeros_primos\n",
      "    self.assertEqual(misherramientas.numeros_primos(), [True, True, False, True, False, True, False, False])\n",
      "AssertionError: Lists differ: [2, 3, 5, 7] != [True, True, False, True, False, True, False, False]\n",
      "\n",
      "First differing element 0:\n",
      "2\n",
      "True\n",
      "\n",
      "Second list contains 4 additional elements.\n",
      "First extra element 4:\n",
      "False\n",
      "\n",
      "- [2, 3, 5, 7]\n",
      "+ [True, True, False, True, False, True, False, False]\n",
      "\n",
      "----------------------------------------------------------------------\n",
      "Ran 6 tests in 0.049s\n",
      "\n",
      "FAILED (failures=2, errors=1)\n"
     ]
    },
    {
     "data": {
      "text/plain": [
       "<unittest.main.TestProgram at 0x77b4945155e0>"
      ]
     },
     "execution_count": 26,
     "metadata": {},
     "output_type": "execute_result"
    }
   ],
   "source": [
    "import unittest\n",
    "from misherramientas import Misherramientas\n",
    "\n",
    "class TestMisherramientas(unittest.TestCase):\n",
    "    def test_numeros_primos(self):\n",
    "        misherramientas = Misherramientas([2, 3, 4, 5, 6, 7, 8, 9])\n",
    "        self.assertEqual(misherramientas.numeros_primos(), [True, True, False, True, False, True, False, False])\n",
    "\n",
    "    def test_numeros_primos_vacio(self):\n",
    "        misherramientas = Misherramientas([])\n",
    "        self.assertEqual(misherramientas.numeros_primos(), [])\n",
    "\n",
    "    def test_numeros_primos_repetidos(self):\n",
    "        misherramientas = Misherramientas([2, 2, 3, 4, 5, 5, 6, 7])\n",
    "       \n",
    "importlib.reload(h)\n",
    "unittest.main(argv=[''], verbosity=2, exit=False)"
   ]
  },
  {
   "attachments": {},
   "cell_type": "markdown",
   "metadata": {},
   "source": [
    "7) Agregar casos de pruebas para el método conversion_grados()"
   ]
  },
  {
   "cell_type": "code",
   "execution_count": null,
   "metadata": {},
   "outputs": [],
   "source": []
  },
  {
   "attachments": {},
   "cell_type": "markdown",
   "metadata": {},
   "source": [
    "8) Agregar casos de pruebas para el método factorial()"
   ]
  },
  {
   "cell_type": "code",
   "execution_count": null,
   "metadata": {},
   "outputs": [],
   "source": []
  }
 ],
 "metadata": {
  "kernelspec": {
   "display_name": "Python 3",
   "language": "python",
   "name": "python3"
  },
  "language_info": {
   "codemirror_mode": {
    "name": "ipython",
    "version": 3
   },
   "file_extension": ".py",
   "mimetype": "text/x-python",
   "name": "python",
   "nbconvert_exporter": "python",
   "pygments_lexer": "ipython3",
   "version": "3.12.7"
  }
 },
 "nbformat": 4,
 "nbformat_minor": 4
}
